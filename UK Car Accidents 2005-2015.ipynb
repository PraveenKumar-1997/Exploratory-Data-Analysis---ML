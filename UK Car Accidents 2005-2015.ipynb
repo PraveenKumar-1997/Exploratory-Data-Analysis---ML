{
 "cells": [
  {
   "cell_type": "code",
   "execution_count": 1,
   "metadata": {},
   "outputs": [],
   "source": [
    "import pandas as pd\n",
    "import numpy as np\n",
    "import matplotlib.pyplot as plt\n",
    "\n",
    "import os\n",
    "os.chdir('C://Users//Admin//OneDrive - Madanapalle Institute of Technology & Science//Desktop//Praveen Kumar//UK Car Accidents 2005-2015')    "
   ]
  },
  {
   "cell_type": "code",
   "execution_count": 2,
   "metadata": {},
   "outputs": [],
   "source": [
    "accidents = pd.read_csv('Accidents0515.csv')\n",
    "#casualities = pd.read_csv('Casualties0515.csv')\n",
    "#vehicles = pd.read_csv('Vehicles0515.csv')"
   ]
  },
  {
   "cell_type": "code",
   "execution_count": 3,
   "metadata": {},
   "outputs": [
    {
     "data": {
      "text/html": [
       "<div>\n",
       "<style scoped>\n",
       "    .dataframe tbody tr th:only-of-type {\n",
       "        vertical-align: middle;\n",
       "    }\n",
       "\n",
       "    .dataframe tbody tr th {\n",
       "        vertical-align: top;\n",
       "    }\n",
       "\n",
       "    .dataframe thead th {\n",
       "        text-align: right;\n",
       "    }\n",
       "</style>\n",
       "<table border=\"1\" class=\"dataframe\">\n",
       "  <thead>\n",
       "    <tr style=\"text-align: right;\">\n",
       "      <th></th>\n",
       "      <th>Accident_Index</th>\n",
       "      <th>Location_Easting_OSGR</th>\n",
       "      <th>Location_Northing_OSGR</th>\n",
       "      <th>Longitude</th>\n",
       "      <th>Latitude</th>\n",
       "      <th>Police_Force</th>\n",
       "      <th>Accident_Severity</th>\n",
       "      <th>Number_of_Vehicles</th>\n",
       "      <th>Number_of_Casualties</th>\n",
       "      <th>Date</th>\n",
       "      <th>...</th>\n",
       "      <th>Pedestrian_Crossing-Human_Control</th>\n",
       "      <th>Pedestrian_Crossing-Physical_Facilities</th>\n",
       "      <th>Light_Conditions</th>\n",
       "      <th>Weather_Conditions</th>\n",
       "      <th>Road_Surface_Conditions</th>\n",
       "      <th>Special_Conditions_at_Site</th>\n",
       "      <th>Carriageway_Hazards</th>\n",
       "      <th>Urban_or_Rural_Area</th>\n",
       "      <th>Did_Police_Officer_Attend_Scene_of_Accident</th>\n",
       "      <th>LSOA_of_Accident_Location</th>\n",
       "    </tr>\n",
       "  </thead>\n",
       "  <tbody>\n",
       "    <tr>\n",
       "      <td>1614859</td>\n",
       "      <td>201450AY2G001</td>\n",
       "      <td>155243.0</td>\n",
       "      <td>32909.0</td>\n",
       "      <td>-5.427251</td>\n",
       "      <td>50.145545</td>\n",
       "      <td>50</td>\n",
       "      <td>3</td>\n",
       "      <td>1</td>\n",
       "      <td>1</td>\n",
       "      <td>23/02/2014</td>\n",
       "      <td>...</td>\n",
       "      <td>0</td>\n",
       "      <td>0</td>\n",
       "      <td>6</td>\n",
       "      <td>1</td>\n",
       "      <td>1</td>\n",
       "      <td>0</td>\n",
       "      <td>0</td>\n",
       "      <td>2</td>\n",
       "      <td>1</td>\n",
       "      <td>E01019007</td>\n",
       "    </tr>\n",
       "    <tr>\n",
       "      <td>1289188</td>\n",
       "      <td>2012331205762</td>\n",
       "      <td>459475.0</td>\n",
       "      <td>298515.0</td>\n",
       "      <td>-1.123685</td>\n",
       "      <td>52.581173</td>\n",
       "      <td>33</td>\n",
       "      <td>3</td>\n",
       "      <td>3</td>\n",
       "      <td>1</td>\n",
       "      <td>17/08/2012</td>\n",
       "      <td>...</td>\n",
       "      <td>0</td>\n",
       "      <td>0</td>\n",
       "      <td>1</td>\n",
       "      <td>2</td>\n",
       "      <td>2</td>\n",
       "      <td>0</td>\n",
       "      <td>0</td>\n",
       "      <td>2</td>\n",
       "      <td>1</td>\n",
       "      <td>E01025988</td>\n",
       "    </tr>\n",
       "  </tbody>\n",
       "</table>\n",
       "<p>2 rows × 32 columns</p>\n",
       "</div>"
      ],
      "text/plain": [
       "        Accident_Index  Location_Easting_OSGR  Location_Northing_OSGR  \\\n",
       "1614859  201450AY2G001               155243.0                 32909.0   \n",
       "1289188  2012331205762               459475.0                298515.0   \n",
       "\n",
       "         Longitude   Latitude  Police_Force  Accident_Severity  \\\n",
       "1614859  -5.427251  50.145545            50                  3   \n",
       "1289188  -1.123685  52.581173            33                  3   \n",
       "\n",
       "         Number_of_Vehicles  Number_of_Casualties        Date  ...  \\\n",
       "1614859                   1                     1  23/02/2014  ...   \n",
       "1289188                   3                     1  17/08/2012  ...   \n",
       "\n",
       "         Pedestrian_Crossing-Human_Control  \\\n",
       "1614859                                  0   \n",
       "1289188                                  0   \n",
       "\n",
       "        Pedestrian_Crossing-Physical_Facilities  Light_Conditions  \\\n",
       "1614859                                       0                 6   \n",
       "1289188                                       0                 1   \n",
       "\n",
       "        Weather_Conditions  Road_Surface_Conditions  \\\n",
       "1614859                  1                        1   \n",
       "1289188                  2                        2   \n",
       "\n",
       "         Special_Conditions_at_Site  Carriageway_Hazards  Urban_or_Rural_Area  \\\n",
       "1614859                           0                    0                    2   \n",
       "1289188                           0                    0                    2   \n",
       "\n",
       "         Did_Police_Officer_Attend_Scene_of_Accident  \\\n",
       "1614859                                            1   \n",
       "1289188                                            1   \n",
       "\n",
       "         LSOA_of_Accident_Location  \n",
       "1614859                  E01019007  \n",
       "1289188                  E01025988  \n",
       "\n",
       "[2 rows x 32 columns]"
      ]
     },
     "execution_count": 3,
     "metadata": {},
     "output_type": "execute_result"
    }
   ],
   "source": [
    "accidents.sample(2)"
   ]
  },
  {
   "cell_type": "code",
   "execution_count": 4,
   "metadata": {},
   "outputs": [
    {
     "data": {
      "text/plain": [
       "1780653"
      ]
     },
     "execution_count": 4,
     "metadata": {},
     "output_type": "execute_result"
    }
   ],
   "source": [
    "len(accidents)"
   ]
  },
  {
   "cell_type": "code",
   "execution_count": 6,
   "metadata": {
    "scrolled": true
   },
   "outputs": [
    {
     "data": {
      "text/plain": [
       "Accident_Index                                      0\n",
       "Location_Easting_OSGR                             138\n",
       "Location_Northing_OSGR                            138\n",
       "Longitude                                         138\n",
       "Latitude                                          138\n",
       "Police_Force                                        0\n",
       "Accident_Severity                                   0\n",
       "Number_of_Vehicles                                  0\n",
       "Number_of_Casualties                                0\n",
       "Date                                                0\n",
       "Day_of_Week                                         0\n",
       "Time                                              151\n",
       "Local_Authority_(District)                          0\n",
       "Local_Authority_(Highway)                           0\n",
       "1st_Road_Class                                      0\n",
       "1st_Road_Number                                     0\n",
       "Road_Type                                           0\n",
       "Speed_limit                                         0\n",
       "Junction_Detail                                     0\n",
       "Junction_Control                                    0\n",
       "2nd_Road_Class                                      0\n",
       "2nd_Road_Number                                     0\n",
       "Pedestrian_Crossing-Human_Control                   0\n",
       "Pedestrian_Crossing-Physical_Facilities             0\n",
       "Light_Conditions                                    0\n",
       "Weather_Conditions                                  0\n",
       "Road_Surface_Conditions                             0\n",
       "Special_Conditions_at_Site                          0\n",
       "Carriageway_Hazards                                 0\n",
       "Urban_or_Rural_Area                                 0\n",
       "Did_Police_Officer_Attend_Scene_of_Accident         0\n",
       "LSOA_of_Accident_Location                      129471\n",
       "dtype: int64"
      ]
     },
     "execution_count": 6,
     "metadata": {},
     "output_type": "execute_result"
    }
   ],
   "source": [
    "accidents.isnull().sum()"
   ]
  },
  {
   "cell_type": "code",
   "execution_count": 7,
   "metadata": {},
   "outputs": [],
   "source": [
    "accidents.dropna(how = 'any', subset = accidents.columns[:-1], inplace=True)"
   ]
  },
  {
   "cell_type": "code",
   "execution_count": 8,
   "metadata": {},
   "outputs": [],
   "source": [
    "accidents['DATE'] = pd.to_datetime(accidents.Date)"
   ]
  },
  {
   "cell_type": "code",
   "execution_count": 9,
   "metadata": {},
   "outputs": [],
   "source": [
    "import datetime as dt \n",
    "accidents['Year'] = accidents['DATE'].dt.year\n",
    "accidents['Month'] = accidents['DATE'].dt.month\n",
    "accidents['Day'] =  accidents['DATE'].dt.day"
   ]
  },
  {
   "cell_type": "code",
   "execution_count": 10,
   "metadata": {},
   "outputs": [],
   "source": [
    "accidents[['Hour', 'Minute']] = accidents['Time'].str.split(':', expand=True)"
   ]
  },
  {
   "cell_type": "code",
   "execution_count": 11,
   "metadata": {},
   "outputs": [],
   "source": [
    "for col in accidents.columns:\n",
    "    if col not in ['Number_of_Vehicles', 'Number_of_Casualties', 'Speed_limit']:\n",
    "        accidents[col] = pd.Categorical(accidents[col])"
   ]
  },
  {
   "cell_type": "code",
   "execution_count": 12,
   "metadata": {},
   "outputs": [],
   "source": [
    "accidents_df = accidents.drop(['LSOA_of_Accident_Location', 'DATE', 'Date', 'Accident_Index', 'Time', \\\n",
    "                                                                                       'Local_Authority_(Highway)'], axis=1)"
   ]
  },
  {
   "cell_type": "code",
   "execution_count": 13,
   "metadata": {},
   "outputs": [],
   "source": [
    "X = accidents_df.drop('Accident_Severity', axis=1)\n",
    "y = accidents_df['Accident_Severity']"
   ]
  },
  {
   "cell_type": "code",
   "execution_count": 72,
   "metadata": {},
   "outputs": [
    {
     "name": "stdout",
     "output_type": "stream",
     "text": [
      "Feature ranking:\n",
      "1. feature 28 (0.062981) (Location_Easting_OSGR)\n",
      "2. feature 30 (0.062324) (Location_Northing_OSGR)\n",
      "3. feature 1 (0.061190) (Longitude)\n",
      "4. feature 3 (0.061186) (Latitude)\n",
      "5. feature 0 (0.061096) (Police_Force)\n",
      "6. feature 2 (0.061081) (Number_of_Vehicles)\n",
      "7. feature 29 (0.060374) (Number_of_Casualties)\n",
      "8. feature 27 (0.058726) (Day_of_Week)\n",
      "9. feature 26 (0.054383) (Local_Authority_(District))\n",
      "10. feature 7 (0.050397) (1st_Road_Class)\n",
      "11. feature 8 (0.048096) (1st_Road_Number)\n",
      "12. feature 10 (0.047344) (Road_Type)\n",
      "13. feature 5 (0.038298) (Speed_limit)\n",
      "14. feature 6 (0.033819) (Junction_Detail)\n",
      "15. feature 4 (0.028588) (Junction_Control)\n",
      "16. feature 9 (0.026303) (2nd_Road_Class)\n",
      "17. feature 21 (0.021110) (2nd_Road_Number)\n",
      "18. feature 12 (0.020162) (Pedestrian_Crossing-Human_Control)\n",
      "19. feature 20 (0.018184) (Pedestrian_Crossing-Physical_Facilities)\n",
      "20. feature 13 (0.016440) (Light_Conditions)\n",
      "21. feature 18 (0.014737) (Weather_Conditions)\n",
      "22. feature 16 (0.014537) (Road_Surface_Conditions)\n",
      "23. feature 11 (0.013771) (Special_Conditions_at_Site)\n",
      "24. feature 25 (0.012985) (Carriageway_Hazards)\n",
      "25. feature 19 (0.011284) (Urban_or_Rural_Area)\n",
      "26. feature 15 (0.011041) (Did_Police_Officer_Attend_Scene_of_Accident)\n",
      "27. feature 14 (0.009561) (Year)\n",
      "28. feature 24 (0.006747) (Month)\n",
      "29. feature 22 (0.006177) (Day)\n",
      "30. feature 23 (0.005428) (Hour)\n",
      "31. feature 17 (0.001648) (Minute)\n"
     ]
    },
    {
     "data": {
      "image/png": "[encoded data removed]",
      "text/plain": [
       "<Figure size 432x288 with 1 Axes>"
      ]
     },
     "metadata": {
      "needs_background": "light"
     },
     "output_type": "display_data"
    }
   ],
   "source": [
    "# Build a forest and compute the impurity-based feature importances\n",
    "from sklearn.ensemble import ExtraTreesClassifier\n",
    "\n",
    "forest = ExtraTreesClassifier(n_estimators=100,\n",
    "                              random_state=0)\n",
    "\n",
    "forest.fit(X, y)\n",
    "importances = forest.feature_importances_\n",
    "std = np.std([tree.feature_importances_ for tree in forest.estimators_],\n",
    "             axis=0)\n",
    "indices = np.argsort(importances)[::-1]\n",
    "\n",
    "# Print the feature ranking\n",
    "print(\"Feature ranking:\")\n",
    "\n",
    "for f in range(X.shape[1]):\n",
    "    print(\"%d. feature %d (%f) (%s)\" % (f + 1, indices[f], importances[indices[f]], X.columns[f]))\n",
    "\n",
    "# Plot the impurity-based feature importances of the forest\n",
    "plt.figure()\n",
    "plt.title(\"Feature importances\")\n",
    "plt.bar(range(X.shape[1]), importances[indices],\n",
    "        color=\"r\", yerr=std[indices], align=\"center\")\n",
    "plt.xticks(range(X.shape[1]), indices)\n",
    "plt.xlim([-1, X.shape[1]])\n",
    "plt.show()"
   ]
  },
  {
   "cell_type": "code",
   "execution_count": 73,
   "metadata": {},
   "outputs": [
    {
     "data": {
      "text/html": [
       "<div>\n",
       "<style scoped>\n",
       "    .dataframe tbody tr th:only-of-type {\n",
       "        vertical-align: middle;\n",
       "    }\n",
       "\n",
       "    .dataframe tbody tr th {\n",
       "        vertical-align: top;\n",
       "    }\n",
       "\n",
       "    .dataframe thead th {\n",
       "        text-align: right;\n",
       "    }\n",
       "</style>\n",
       "<table border=\"1\" class=\"dataframe\">\n",
       "  <thead>\n",
       "    <tr style=\"text-align: right;\">\n",
       "      <th></th>\n",
       "      <th>Feature Imp</th>\n",
       "    </tr>\n",
       "  </thead>\n",
       "  <tbody>\n",
       "    <tr>\n",
       "      <td>Day</td>\n",
       "      <td>0.062981</td>\n",
       "    </tr>\n",
       "    <tr>\n",
       "      <td>Minute</td>\n",
       "      <td>0.062324</td>\n",
       "    </tr>\n",
       "    <tr>\n",
       "      <td>Location_Northing_OSGR</td>\n",
       "      <td>0.061190</td>\n",
       "    </tr>\n",
       "    <tr>\n",
       "      <td>Latitude</td>\n",
       "      <td>0.061186</td>\n",
       "    </tr>\n",
       "    <tr>\n",
       "      <td>Location_Easting_OSGR</td>\n",
       "      <td>0.061096</td>\n",
       "    </tr>\n",
       "    <tr>\n",
       "      <td>Longitude</td>\n",
       "      <td>0.061081</td>\n",
       "    </tr>\n",
       "    <tr>\n",
       "      <td>Hour</td>\n",
       "      <td>0.060374</td>\n",
       "    </tr>\n",
       "    <tr>\n",
       "      <td>Month</td>\n",
       "      <td>0.058726</td>\n",
       "    </tr>\n",
       "    <tr>\n",
       "      <td>Year</td>\n",
       "      <td>0.054383</td>\n",
       "    </tr>\n",
       "    <tr>\n",
       "      <td>Day_of_Week</td>\n",
       "      <td>0.050397</td>\n",
       "    </tr>\n",
       "    <tr>\n",
       "      <td>Local_Authority_(District)</td>\n",
       "      <td>0.048096</td>\n",
       "    </tr>\n",
       "    <tr>\n",
       "      <td>1st_Road_Number</td>\n",
       "      <td>0.047344</td>\n",
       "    </tr>\n",
       "    <tr>\n",
       "      <td>Number_of_Vehicles</td>\n",
       "      <td>0.038298</td>\n",
       "    </tr>\n",
       "    <tr>\n",
       "      <td>Number_of_Casualties</td>\n",
       "      <td>0.033819</td>\n",
       "    </tr>\n",
       "    <tr>\n",
       "      <td>Police_Force</td>\n",
       "      <td>0.028588</td>\n",
       "    </tr>\n",
       "    <tr>\n",
       "      <td>1st_Road_Class</td>\n",
       "      <td>0.026303</td>\n",
       "    </tr>\n",
       "    <tr>\n",
       "      <td>Road_Surface_Conditions</td>\n",
       "      <td>0.021110</td>\n",
       "    </tr>\n",
       "    <tr>\n",
       "      <td>Speed_limit</td>\n",
       "      <td>0.020162</td>\n",
       "    </tr>\n",
       "    <tr>\n",
       "      <td>Weather_Conditions</td>\n",
       "      <td>0.018184</td>\n",
       "    </tr>\n",
       "    <tr>\n",
       "      <td>Junction_Detail</td>\n",
       "      <td>0.016440</td>\n",
       "    </tr>\n",
       "    <tr>\n",
       "      <td>Pedestrian_Crossing-Physical_Facilities</td>\n",
       "      <td>0.014737</td>\n",
       "    </tr>\n",
       "    <tr>\n",
       "      <td>2nd_Road_Number</td>\n",
       "      <td>0.014537</td>\n",
       "    </tr>\n",
       "    <tr>\n",
       "      <td>Road_Type</td>\n",
       "      <td>0.013771</td>\n",
       "    </tr>\n",
       "    <tr>\n",
       "      <td>Did_Police_Officer_Attend_Scene_of_Accident</td>\n",
       "      <td>0.012985</td>\n",
       "    </tr>\n",
       "    <tr>\n",
       "      <td>Light_Conditions</td>\n",
       "      <td>0.011284</td>\n",
       "    </tr>\n",
       "    <tr>\n",
       "      <td>2nd_Road_Class</td>\n",
       "      <td>0.011041</td>\n",
       "    </tr>\n",
       "    <tr>\n",
       "      <td>Junction_Control</td>\n",
       "      <td>0.009561</td>\n",
       "    </tr>\n",
       "    <tr>\n",
       "      <td>Urban_or_Rural_Area</td>\n",
       "      <td>0.006747</td>\n",
       "    </tr>\n",
       "    <tr>\n",
       "      <td>Special_Conditions_at_Site</td>\n",
       "      <td>0.006177</td>\n",
       "    </tr>\n",
       "    <tr>\n",
       "      <td>Carriageway_Hazards</td>\n",
       "      <td>0.005428</td>\n",
       "    </tr>\n",
       "    <tr>\n",
       "      <td>Pedestrian_Crossing-Human_Control</td>\n",
       "      <td>0.001648</td>\n",
       "    </tr>\n",
       "  </tbody>\n",
       "</table>\n",
       "</div>"
      ],
      "text/plain": [
       "                                             Feature Imp\n",
       "Day                                             0.062981\n",
       "Minute                                          0.062324\n",
       "Location_Northing_OSGR                          0.061190\n",
       "Latitude                                        0.061186\n",
       "Location_Easting_OSGR                           0.061096\n",
       "Longitude                                       0.061081\n",
       "Hour                                            0.060374\n",
       "Month                                           0.058726\n",
       "Year                                            0.054383\n",
       "Day_of_Week                                     0.050397\n",
       "Local_Authority_(District)                      0.048096\n",
       "1st_Road_Number                                 0.047344\n",
       "Number_of_Vehicles                              0.038298\n",
       "Number_of_Casualties                            0.033819\n",
       "Police_Force                                    0.028588\n",
       "1st_Road_Class                                  0.026303\n",
       "Road_Surface_Conditions                         0.021110\n",
       "Speed_limit                                     0.020162\n",
       "Weather_Conditions                              0.018184\n",
       "Junction_Detail                                 0.016440\n",
       "Pedestrian_Crossing-Physical_Facilities         0.014737\n",
       "2nd_Road_Number                                 0.014537\n",
       "Road_Type                                       0.013771\n",
       "Did_Police_Officer_Attend_Scene_of_Accident     0.012985\n",
       "Light_Conditions                                0.011284\n",
       "2nd_Road_Class                                  0.011041\n",
       "Junction_Control                                0.009561\n",
       "Urban_or_Rural_Area                             0.006747\n",
       "Special_Conditions_at_Site                      0.006177\n",
       "Carriageway_Hazards                             0.005428\n",
       "Pedestrian_Crossing-Human_Control               0.001648"
      ]
     },
     "execution_count": 73,
     "metadata": {},
     "output_type": "execute_result"
    }
   ],
   "source": [
    "FI = pd.DataFrame(importances, index = X.columns).rename(columns = {0:'Feature Imp'}).sort_values(by ='Feature Imp',\n",
    "                                                                                                  ascending=False)\n",
    "FI"
   ]
  },
  {
   "cell_type": "code",
   "execution_count": 74,
   "metadata": {},
   "outputs": [
    {
     "data": {
      "text/plain": [
       "<matplotlib.axes._subplots.AxesSubplot at 0x275322574c8>"
      ]
     },
     "execution_count": 74,
     "metadata": {},
     "output_type": "execute_result"
    },
    {
     "data": {
      "image/png": "[encoded data removed]",
      "text/plain": [
       "<Figure size 1080x432 with 1 Axes>"
      ]
     },
     "metadata": {
      "needs_background": "light"
     },
     "output_type": "display_data"
    }
   ],
   "source": [
    "import seaborn as sns\n",
    "plt.figure(figsize=(15,6))\n",
    "plt.xticks(rotation=80)\n",
    "sns.barplot(x=FI.index, y=FI['Feature Imp'])"
   ]
  },
  {
   "cell_type": "code",
   "execution_count": 14,
   "metadata": {},
   "outputs": [
    {
     "data": {
      "text/plain": [
       "RandomForestClassifier(bootstrap=True, class_weight=None, criterion='gini',\n",
       "                       max_depth=None, max_features='auto', max_leaf_nodes=None,\n",
       "                       min_impurity_decrease=0.0, min_impurity_split=None,\n",
       "                       min_samples_leaf=1, min_samples_split=2,\n",
       "                       min_weight_fraction_leaf=0.0, n_estimators=100,\n",
       "                       n_jobs=None, oob_score=False, random_state=0, verbose=0,\n",
       "                       warm_start=False)"
      ]
     },
     "execution_count": 14,
     "metadata": {},
     "output_type": "execute_result"
    }
   ],
   "source": [
    "from sklearn.model_selection import train_test_split\n",
    "X_train, X_test, y_train, y_test = train_test_split(X,y, random_state=0, test_size=0.2, stratify = y)\n",
    "\n",
    "from sklearn.ensemble import RandomForestClassifier\n",
    "rf = RandomForestClassifier(n_estimators=100, random_state=0)\n",
    "rf.fit(X_train, y_train)"
   ]
  },
  {
   "cell_type": "code",
   "execution_count": 15,
   "metadata": {},
   "outputs": [],
   "source": [
    "preds = rf.predict(X_test)"
   ]
  },
  {
   "cell_type": "code",
   "execution_count": 21,
   "metadata": {},
   "outputs": [
    {
     "data": {
      "text/plain": [
       "array([[     3,      4,      2],\n",
       "       [   115,    513,    617],\n",
       "       [  4481,  47889, 302449]], dtype=int64)"
      ]
     },
     "execution_count": 21,
     "metadata": {},
     "output_type": "execute_result"
    }
   ],
   "source": [
    "from sklearn.metrics import confusion_matrix, roc_auc_score, f1_score\n",
    "confusion_matrix(preds, y_test)"
   ]
  },
  {
   "cell_type": "code",
   "execution_count": 41,
   "metadata": {},
   "outputs": [
    {
     "data": {
      "text/plain": [
       "3    85.113887\n",
       "2    13.594467\n",
       "1     1.291646\n",
       "Name: Accident_Severity, dtype: float64"
      ]
     },
     "execution_count": 41,
     "metadata": {},
     "output_type": "execute_result"
    }
   ],
   "source": [
    "y.value_counts(normalize=True)*100"
   ]
  },
  {
   "cell_type": "code",
   "execution_count": 23,
   "metadata": {},
   "outputs": [
    {
     "data": {
      "text/plain": [
       "0.9162899645356823"
      ]
     },
     "execution_count": 23,
     "metadata": {},
     "output_type": "execute_result"
    }
   ],
   "source": [
    "f1_score(preds, y_test, average='weighted')"
   ]
  },
  {
   "cell_type": "code",
   "execution_count": 35,
   "metadata": {},
   "outputs": [
    {
     "data": {
      "text/plain": [
       "array([3, 3, 3, ..., 3, 3, 3], dtype=int64)"
      ]
     },
     "execution_count": 35,
     "metadata": {},
     "output_type": "execute_result"
    }
   ],
   "source": [
    "preds[(preds==3 )|(preds==2)]"
   ]
  },
  {
   "cell_type": "code",
   "execution_count": 37,
   "metadata": {},
   "outputs": [
    {
     "data": {
      "text/plain": [
       "0.6820422066883108"
      ]
     },
     "execution_count": 37,
     "metadata": {},
     "output_type": "execute_result"
    }
   ],
   "source": [
    "roc_auc_score(preds[(preds==3 )|(preds==2)], y_test[(preds==3 )|(preds==2)])"
   ]
  },
  {
   "cell_type": "code",
   "execution_count": 38,
   "metadata": {},
   "outputs": [
    {
     "data": {
      "text/plain": [
       "0.6848282016956715"
      ]
     },
     "execution_count": 38,
     "metadata": {},
     "output_type": "execute_result"
    }
   ],
   "source": [
    "roc_auc_score(preds[(preds==1)|(preds==2)], y_test[(preds==1)|(preds==2)])"
   ]
  },
  {
   "cell_type": "code",
   "execution_count": 39,
   "metadata": {},
   "outputs": [
    {
     "data": {
      "text/plain": [
       "0.8347788277653929"
      ]
     },
     "execution_count": 39,
     "metadata": {},
     "output_type": "execute_result"
    }
   ],
   "source": [
    "roc_auc_score(preds[(preds==1)|(preds==3)], y_test[(preds==1)|(preds==3)])"
   ]
  }
 ],
 "metadata": {
  "kernelspec": {
   "display_name": "Python 3 (ipykernel)",
   "language": "python",
   "name": "python3"
  },
  "language_info": {
   "codemirror_mode": {
    "name": "ipython",
    "version": 3
   },
   "file_extension": ".py",
   "mimetype": "text/x-python",
   "name": "python",
   "nbconvert_exporter": "python",
   "pygments_lexer": "ipython3",
   "version": "3.9.12"
  }
 },
 "nbformat": 4,
 "nbformat_minor": 2
}
